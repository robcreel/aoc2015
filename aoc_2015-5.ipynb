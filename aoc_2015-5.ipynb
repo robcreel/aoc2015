{
 "cells": [
  {
   "cell_type": "code",
   "execution_count": 27,
   "metadata": {},
   "outputs": [],
   "source": [
    "input_file = 'aoc_2015-5_input.txt'\n",
    "with open(input_file, 'r') as myfile:\n",
    "    string_data = myfile.read()\n",
    "sstrings = string_data.split('\\n')"
   ]
  },
  {
   "cell_type": "code",
   "execution_count": 43,
   "metadata": {},
   "outputs": [],
   "source": [
    "def is_vowel(input_char):\n",
    "    return input_char[0] in 'aeiou'"
   ]
  },
  {
   "cell_type": "code",
   "execution_count": 45,
   "metadata": {},
   "outputs": [],
   "source": [
    "def vowel_count(input_string):\n",
    "    count = 0\n",
    "    for char in input_string:\n",
    "        if is_vowel(char):\n",
    "            count += 1\n",
    "    return count"
   ]
  },
  {
   "cell_type": "code",
   "execution_count": 46,
   "metadata": {},
   "outputs": [],
   "source": [
    "def has_double_letter(input_string):\n",
    "    for ii in range(len(input_string) - 1):\n",
    "        if input_string[ii] == input_string[ii + 1]:\n",
    "            return True\n",
    "    return False"
   ]
  },
  {
   "cell_type": "code",
   "execution_count": 47,
   "metadata": {},
   "outputs": [],
   "source": [
    "def has_no_bad_substring(input_string):\n",
    "    bad_list = ['ab', 'cd', 'pq', 'xy']\n",
    "    for ii in range(len(input_string) - 2):\n",
    "        if input_string[ii:(ii + 2)] in bad_list:\n",
    "            return False\n",
    "    return True"
   ]
  },
  {
   "cell_type": "code",
   "execution_count": 33,
   "metadata": {},
   "outputs": [],
   "source": [
    "def is_nice(input_string):\n",
    "    if vowel_count(input_string) >= 3:\n",
    "        if has_double_letter(input_string):\n",
    "            if has_no_bad_substring(input_string):\n",
    "                return True\n",
    "    return False"
   ]
  },
  {
   "cell_type": "code",
   "execution_count": 55,
   "metadata": {},
   "outputs": [],
   "source": [
    "def get_nice_count(input_list):\n",
    "    count = 0\n",
    "    for line in input_list:\n",
    "        if is_nice(line):\n",
    "            count += 1\n",
    "    return count"
   ]
  },
  {
   "cell_type": "code",
   "execution_count": 56,
   "metadata": {},
   "outputs": [
    {
     "data": {
      "text/plain": [
       "255"
      ]
     },
     "execution_count": 56,
     "metadata": {},
     "output_type": "execute_result"
    }
   ],
   "source": [
    "get_nice_count(sstrings)"
   ]
  },
  {
   "cell_type": "code",
   "execution_count": 1,
   "metadata": {},
   "outputs": [],
   "source": [
    "# Part II: harder criteria"
   ]
  },
  {
   "cell_type": "code",
   "execution_count": 2,
   "metadata": {},
   "outputs": [],
   "source": [
    "def has_second_criterion(input_string):\n",
    "    for ii in range(len(input_string) - 2):\n",
    "        if input_string[ii] == input_string[ii + 2]:\n",
    "            return True\n",
    "    return False"
   ]
  },
  {
   "cell_type": "code",
   "execution_count": 20,
   "metadata": {},
   "outputs": [],
   "source": [
    "def has_first_criterion(input_string):\n",
    "    for ii in range(len(input_string) - 2):\n",
    "        if input_string[ii:(ii + 2)] in input_string[(ii + 2):]:\n",
    "#             print(input_string[ii:(ii + 2)])\n",
    "            return True\n",
    "    return False"
   ]
  },
  {
   "cell_type": "code",
   "execution_count": 21,
   "metadata": {},
   "outputs": [],
   "source": [
    "def is_nice2(input_string):\n",
    "    if has_first_criterion(input_string):\n",
    "        if has_second_criterion(input_string):\n",
    "            return True\n",
    "    return False"
   ]
  },
  {
   "cell_type": "code",
   "execution_count": 26,
   "metadata": {},
   "outputs": [],
   "source": [
    "def get_nice_count2(input_list):\n",
    "    count = 0\n",
    "    for line in input_list:\n",
    "        if is_nice2(line):\n",
    "            count += 1\n",
    "    return count"
   ]
  },
  {
   "cell_type": "code",
   "execution_count": 28,
   "metadata": {},
   "outputs": [
    {
     "data": {
      "text/plain": [
       "55"
      ]
     },
     "execution_count": 28,
     "metadata": {},
     "output_type": "execute_result"
    }
   ],
   "source": [
    "get_nice_count2(sstrings)"
   ]
  },
  {
   "cell_type": "code",
   "execution_count": null,
   "metadata": {},
   "outputs": [],
   "source": []
  }
 ],
 "metadata": {
  "kernelspec": {
   "display_name": "Python 3",
   "language": "python",
   "name": "python3"
  },
  "language_info": {
   "codemirror_mode": {
    "name": "ipython",
    "version": 3
   },
   "file_extension": ".py",
   "mimetype": "text/x-python",
   "name": "python",
   "nbconvert_exporter": "python",
   "pygments_lexer": "ipython3",
   "version": "3.7.2"
  }
 },
 "nbformat": 4,
 "nbformat_minor": 2
}
