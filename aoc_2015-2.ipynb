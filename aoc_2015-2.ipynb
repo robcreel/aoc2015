{
 "cells": [
  {
   "cell_type": "code",
   "execution_count": 2,
   "metadata": {},
   "outputs": [],
   "source": [
    "input_file = 'aoc_2015-2_input.txt'\n",
    "with open(input_file, 'r') as myfile:\n",
    "    box_data = myfile.read()\n",
    "boxes = box_data.split('\\n')"
   ]
  },
  {
   "cell_type": "code",
   "execution_count": 13,
   "metadata": {},
   "outputs": [],
   "source": [
    "area = 0\n",
    "ribbon = 0\n",
    "for line in boxes[:-1]:\n",
    "    line_list = line.split('x')\n",
    "    dimensions = list(map(int, line_list))\n",
    "    dimensions.sort()\n",
    "    l = dimensions[0]\n",
    "    w = dimensions[1]\n",
    "    h = dimensions[2]\n",
    "    face1 = l*w\n",
    "    face2 = w*h\n",
    "    face3 = h*l\n",
    "    slack = min([face1, face2, face3])\n",
    "    area += 2*face1 + 2*face2 + 2*face3 + slack\n",
    "    ribbon += 2*l + 2*w + l*w*h    "
   ]
  },
  {
   "cell_type": "code",
   "execution_count": 14,
   "metadata": {},
   "outputs": [
    {
     "data": {
      "text/plain": [
       "1598415"
      ]
     },
     "execution_count": 14,
     "metadata": {},
     "output_type": "execute_result"
    }
   ],
   "source": [
    "area"
   ]
  },
  {
   "cell_type": "code",
   "execution_count": 15,
   "metadata": {},
   "outputs": [
    {
     "data": {
      "text/plain": [
       "3812909"
      ]
     },
     "execution_count": 15,
     "metadata": {},
     "output_type": "execute_result"
    }
   ],
   "source": [
    "ribbon"
   ]
  }
 ],
 "metadata": {
  "kernelspec": {
   "display_name": "Python 3",
   "language": "python",
   "name": "python3"
  },
  "language_info": {
   "codemirror_mode": {
    "name": "ipython",
    "version": 3
   },
   "file_extension": ".py",
   "mimetype": "text/x-python",
   "name": "python",
   "nbconvert_exporter": "python",
   "pygments_lexer": "ipython3",
   "version": "3.7.2"
  }
 },
 "nbformat": 4,
 "nbformat_minor": 2
}
