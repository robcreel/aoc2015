{
 "cells": [
  {
   "cell_type": "code",
   "execution_count": 1,
   "metadata": {},
   "outputs": [],
   "source": [
    "input_file = 'aoc_2015-6_input.txt'\n",
    "with open(input_file, 'r') as myfile:\n",
    "    data = myfile.read()\n",
    "instructions = data.split('\\n')"
   ]
  },
  {
   "cell_type": "code",
   "execution_count": 2,
   "metadata": {},
   "outputs": [],
   "source": [
    "grid_dict = {}\n",
    "for x in range(1000):\n",
    "    for y in range(1000):\n",
    "        grid_dict[(x, y)] = \"_\""
   ]
  },
  {
   "cell_type": "code",
   "execution_count": 3,
   "metadata": {},
   "outputs": [],
   "source": [
    "def turn_on_light(input_pair):\n",
    "    grid_dict[input_pair] = '*'\n",
    "\n",
    "def turn_off_light(input_pair):\n",
    "    grid_dict[input_pair] = '_'\n",
    "\n",
    "def toggle_light(input_pair):\n",
    "    if grid_dict[input_pair] == '*':\n",
    "        grid_dict[input_pair] = '_'\n",
    "    else:\n",
    "        grid_dict[input_pair] = '*'"
   ]
  },
  {
   "cell_type": "code",
   "execution_count": 4,
   "metadata": {},
   "outputs": [],
   "source": [
    "def turn_on_array(input_corner1, input_corner2):\n",
    "    for x in range(input_corner1[0], input_corner2[0] + 1):\n",
    "        for y in range(input_corner1[1], input_corner2[1]  + 1):\n",
    "            turn_on_light((x, y))\n",
    "\n",
    "def turn_off_array(input_corner1, input_corner2):\n",
    "    for x in range(input_corner1[0], input_corner2[0] + 1):\n",
    "        for y in range(input_corner1[1], input_corner2[1] + 1):\n",
    "            turn_off_light((x, y))\n",
    "\n",
    "def toggle_array(input_corner1, input_corner2):\n",
    "    for x in range(input_corner1[0], input_corner2[0] + 1):\n",
    "        for y in range(input_corner1[1], input_corner2[1] + 1):\n",
    "            toggle_light((x, y))"
   ]
  },
  {
   "cell_type": "code",
   "execution_count": 11,
   "metadata": {},
   "outputs": [],
   "source": [
    "# def print_grid():\n",
    "#     for y in range(10):\n",
    "#         x_row = ''\n",
    "#         for x in range(10):\n",
    "#             x_row = x_row + grid_dict[(x, y)]\n",
    "#         print(x_row)\n",
    "\n",
    "def write_grid_to_file():\n",
    "    g = open(\"aoc_2015-6_light_grid.txt\", \"w\")\n",
    "    for y in range(1000):\n",
    "        x_row = ''\n",
    "        for x in range(1000):\n",
    "            x_row = x_row + grid_dict[(x, y)]\n",
    "        g.write(x_row)\n",
    "        g.write('\\n')\n"
   ]
  },
  {
   "cell_type": "code",
   "execution_count": 6,
   "metadata": {},
   "outputs": [],
   "source": [
    "def as_corner(input_string):\n",
    "    corner = input_string.split(',')\n",
    "    corner = tuple(map(int, corner))\n",
    "    return corner"
   ]
  },
  {
   "cell_type": "code",
   "execution_count": 7,
   "metadata": {},
   "outputs": [],
   "source": [
    "def prep_line(input_string):\n",
    "    line_list = input_string.split(' ')\n",
    "    if 'turn' in line_list:\n",
    "        line_list.remove('turn')\n",
    "    corner1 = line_list[1]\n",
    "    corner1 = as_corner(corner1)\n",
    "    line_list[1] = corner1\n",
    "    corner2 = line_list[3]\n",
    "    corner2 = as_corner(corner2)\n",
    "    line_list[3] = corner2\n",
    "    return line_list"
   ]
  },
  {
   "cell_type": "code",
   "execution_count": 14,
   "metadata": {},
   "outputs": [],
   "source": [
    "def perform_instruction(line):\n",
    "    instruction = line[0]\n",
    "    corner1 = line[1]\n",
    "    corner2 = line[3]\n",
    "    if instruction == 'on':\n",
    "        turn_on_array(corner1, corner2)\n",
    "    if instruction == 'off':\n",
    "        turn_off_array(corner1, corner2)\n",
    "    if instruction == 'toggle':\n",
    "        toggle_array(corner1, corner2)"
   ]
  },
  {
   "cell_type": "code",
   "execution_count": 15,
   "metadata": {},
   "outputs": [],
   "source": [
    "def get_on_count():\n",
    "    count = 0\n",
    "    for x in range(1000):\n",
    "        for y in range(1000):\n",
    "            if grid_dict[(x, y)] == '*':\n",
    "                count += 1\n",
    "    return count"
   ]
  },
  {
   "cell_type": "code",
   "execution_count": 16,
   "metadata": {},
   "outputs": [],
   "source": [
    "for line in instructions[:len(instructions) - 1]:\n",
    "    prepped_line = prep_line(line)\n",
    "    perform_instruction(prepped_line)\n",
    "    \n",
    "write_grid_to_file()"
   ]
  },
  {
   "cell_type": "code",
   "execution_count": 17,
   "metadata": {},
   "outputs": [
    {
     "data": {
      "text/plain": [
       "543903"
      ]
     },
     "execution_count": 17,
     "metadata": {},
     "output_type": "execute_result"
    }
   ],
   "source": [
    "get_on_count()"
   ]
  },
  {
   "cell_type": "code",
   "execution_count": 18,
   "metadata": {},
   "outputs": [],
   "source": [
    "# Part II"
   ]
  },
  {
   "cell_type": "code",
   "execution_count": 23,
   "metadata": {},
   "outputs": [],
   "source": [
    "grid_dict = {}\n",
    "for x in range(1000):\n",
    "    for y in range(1000):\n",
    "        grid_dict[(x, y)] = 0"
   ]
  },
  {
   "cell_type": "code",
   "execution_count": 24,
   "metadata": {},
   "outputs": [],
   "source": [
    "def turn_on_light2(input_pair):\n",
    "    grid_dict[input_pair] += 1\n",
    "\n",
    "def turn_off_light2(input_pair):\n",
    "    if grid_dict[input_pair] > 0:\n",
    "        grid_dict[input_pair] += -1\n",
    "\n",
    "def toggle_light2(input_pair):\n",
    "    grid_dict[input_pair] +=2\n",
    "\n",
    "def turn_on_array2(input_corner1, input_corner2):\n",
    "    for x in range(input_corner1[0], input_corner2[0] + 1):\n",
    "        for y in range(input_corner1[1], input_corner2[1]  + 1):\n",
    "            turn_on_light2((x, y))\n",
    "\n",
    "def turn_off_array2(input_corner1, input_corner2):\n",
    "    for x in range(input_corner1[0], input_corner2[0] + 1):\n",
    "        for y in range(input_corner1[1], input_corner2[1] + 1):\n",
    "            turn_off_light2((x, y))\n",
    "\n",
    "def toggle_array2(input_corner1, input_corner2):\n",
    "    for x in range(input_corner1[0], input_corner2[0] + 1):\n",
    "        for y in range(input_corner1[1], input_corner2[1] + 1):\n",
    "            toggle_light2((x, y))\n",
    "\n",
    "def get_brightness():\n",
    "    brightness = 0\n",
    "    for x in range(1000):\n",
    "        for y in range(1000):\n",
    "            brightness += grid_dict[(x, y)]\n",
    "    return brightness"
   ]
  },
  {
   "cell_type": "code",
   "execution_count": 25,
   "metadata": {},
   "outputs": [
    {
     "data": {
      "text/plain": [
       "14687245"
      ]
     },
     "execution_count": 25,
     "metadata": {},
     "output_type": "execute_result"
    }
   ],
   "source": [
    "def perform_instruction2(line):\n",
    "    instruction = line[0]\n",
    "    corner1 = line[1]\n",
    "    corner2 = line[3]\n",
    "    if instruction == 'on':\n",
    "        turn_on_array2(corner1, corner2)\n",
    "    if instruction == 'off':\n",
    "        turn_off_array2(corner1, corner2)\n",
    "    if instruction == 'toggle':\n",
    "        toggle_array2(corner1, corner2)\n",
    "\n",
    "for line in instructions[:len(instructions) - 1]:\n",
    "    prepped_line = prep_line(line)\n",
    "    perform_instruction2(prepped_line)\n",
    "    \n",
    "get_brightness()"
   ]
  },
  {
   "cell_type": "code",
   "execution_count": null,
   "metadata": {},
   "outputs": [],
   "source": []
  }
 ],
 "metadata": {
  "kernelspec": {
   "display_name": "Python 3",
   "language": "python",
   "name": "python3"
  },
  "language_info": {
   "codemirror_mode": {
    "name": "ipython",
    "version": 3
   },
   "file_extension": ".py",
   "mimetype": "text/x-python",
   "name": "python",
   "nbconvert_exporter": "python",
   "pygments_lexer": "ipython3",
   "version": "3.7.2"
  }
 },
 "nbformat": 4,
 "nbformat_minor": 2
}
